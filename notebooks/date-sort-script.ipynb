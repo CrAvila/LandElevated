{
 "cells": [
  {
   "cell_type": "code",
   "execution_count": 22,
   "metadata": {},
   "outputs": [],
   "source": [
    "script = '''\n",
    "function main(workbook: ExcelScript.Workbook) {\n",
    "\tlet selectedSheet = workbook.getActiveWorksheet();\n",
    "\t// Set range X2:AA2 on selectedSheet\n",
    "\tselectedSheet.getRange(\"X2:AA2\").setFormulasLocal([[\"=IFERROR(LEFT(T2, FIND(\\\\\" \\\\\", T2, 1) - 1), 0)\", \"=IFERROR(LEFT(Y3, FIND(\\\\\"/\\\\\", Y3) - 1),0)\", \"=IFERROR(MID(Y2, SEARCH(\\\\\"/\\\\\", Y2) + 1, SEARCH(\\\\\"/\\\\\", Y2, SEARCH(\\\\\"/\\\\\", Y2) + 1) - SEARCH(\\\\\"/\\\\\", Y2) - 1),0)\", \"=RIGHT(Y2, 4)\"]]);\n",
    "\t// Set visibility of column(s) at range X:X on selectedSheet to true\n",
    "\tselectedSheet.getRange(\"X:X\").setColumnHidden(true);\n",
    "\t// Set range AB2 on selectedSheet\n",
    "\tselectedSheet.getRange(\"AB2\").setFormulaLocal(\"=[@Column4]*12*30\");\n",
    "\t// Set visibility of column(s) at range AA:AA on selectedSheet to true\n",
    "\tselectedSheet.getRange(\"AA:AA\").setColumnHidden(true);\n",
    "\t// Set range AC2 on selectedSheet\n",
    "\tselectedSheet.getRange(\"AC2\").setFormulaLocal(\"=[@Column2]*30\");\n",
    "\t// Set visibility of column(s) at range Y:Y on selectedSheet to true\n",
    "\tselectedSheet.getRange(\"Y:Y\").setColumnHidden(true);\n",
    "\t// Set range AD2 on selectedSheet\n",
    "\tselectedSheet.getRange(\"AD2\").setFormulaLocal(\"=[@Column3]+[@Column5]+[@Column6]\");\n",
    "\t// Set visibility of column(s) at range Z:Z on selectedSheet to true\n",
    "\tselectedSheet.getRange(\"Z:Z\").setColumnHidden(true);\n",
    "\t// Set visibility of column(s) at range AB:AB on selectedSheet to true\n",
    "\tselectedSheet.getRange(\"AB:AB\").setColumnHidden(true);\n",
    "\t// Set visibility of column(s) at range AC:AC on selectedSheet to true\n",
    "\tselectedSheet.getRange(\"AC:AC\").setColumnHidden(true);\n",
    "\tlet cA_SB_SM_SubSec17_Submarket2 = workbook.getTable(\"CA_SB_SM_SubSec17_Submarket2\");\n",
    "\t// Sort on table: cA_SB_SM_SubSec17_Submarket2 column index: '29'\n",
    "\tcA_SB_SM_SubSec17_Submarket2.getSort().apply([{ key: 29, ascending: false }]);\n",
    "\t// Set visibility of column(s) at range AD:AD on selectedSheet to true\n",
    "\tselectedSheet.getRange(\"AD:AD\").setColumnHidden(true);\n",
    "}\n",
    "'''"
   ]
  },
  {
   "cell_type": "code",
   "execution_count": 23,
   "metadata": {},
   "outputs": [],
   "source": [
    "sub_section = 19\n",
    "submarket = 1"
   ]
  },
  {
   "cell_type": "code",
   "execution_count": 26,
   "metadata": {},
   "outputs": [],
   "source": [
    "script = script.replace(\"SubSec17\", f\"SubSec{str(sub_section)}\").replace(\"Submarket2\", f\"Submarket{str(submarket)}\")\n",
    "script = script.replace(\"Y3\", \"X2\").replace(\"Y2\", \"X2\")"
   ]
  },
  {
   "cell_type": "code",
   "execution_count": 27,
   "metadata": {},
   "outputs": [
    {
     "name": "stdout",
     "output_type": "stream",
     "text": [
      "\n",
      "function main(workbook: ExcelScript.Workbook) {\n",
      "\tlet selectedSheet = workbook.getActiveWorksheet();\n",
      "\t// Set range X2:AA2 on selectedSheet\n",
      "\tselectedSheet.getRange(\"X2:AA2\").setFormulasLocal([[\"=IFERROR(LEFT(T2, FIND(\\\" \\\", T2, 1) - 1), 0)\", \"=IFERROR(LEFT(X2, FIND(\\\"/\\\", X2) - 1),0)\", \"=IFERROR(MID(X2, SEARCH(\\\"/\\\", X2) + 1, SEARCH(\\\"/\\\", X2, SEARCH(\\\"/\\\", X2) + 1) - SEARCH(\\\"/\\\", X2) - 1),0)\", \"=RIGHT(X2, 4)\"]]);\n",
      "\t// Set visibility of column(s) at range X:X on selectedSheet to true\n",
      "\tselectedSheet.getRange(\"X:X\").setColumnHidden(true);\n",
      "\t// Set range AB2 on selectedSheet\n",
      "\tselectedSheet.getRange(\"AB2\").setFormulaLocal(\"=[@Column4]*12*30\");\n",
      "\t// Set visibility of column(s) at range AA:AA on selectedSheet to true\n",
      "\tselectedSheet.getRange(\"AA:AA\").setColumnHidden(true);\n",
      "\t// Set range AC2 on selectedSheet\n",
      "\tselectedSheet.getRange(\"AC2\").setFormulaLocal(\"=[@Column2]*30\");\n",
      "\t// Set visibility of column(s) at range Y:Y on selectedSheet to true\n",
      "\tselectedSheet.getRange(\"Y:Y\").setColumnHidden(true);\n",
      "\t// Set range AD2 on selectedSheet\n",
      "\tselectedSheet.getRange(\"AD2\").setFormulaLocal(\"=[@Column3]+[@Column5]+[@Column6]\");\n",
      "\t// Set visibility of column(s) at range Z:Z on selectedSheet to true\n",
      "\tselectedSheet.getRange(\"Z:Z\").setColumnHidden(true);\n",
      "\t// Set visibility of column(s) at range AB:AB on selectedSheet to true\n",
      "\tselectedSheet.getRange(\"AB:AB\").setColumnHidden(true);\n",
      "\t// Set visibility of column(s) at range AC:AC on selectedSheet to true\n",
      "\tselectedSheet.getRange(\"AC:AC\").setColumnHidden(true);\n",
      "\tlet cA_SB_SM_SubSec19_Submarket1 = workbook.getTable(\"CA_SB_SM_SubSec19_Submarket1\");\n",
      "\t// Sort on table: cA_SB_SM_SubSec19_Submarket1 column index: '29'\n",
      "\tcA_SB_SM_SubSec19_Submarket1.getSort().apply([{ key: 29, ascending: false }]);\n",
      "\t// Set visibility of column(s) at range AD:AD on selectedSheet to true\n",
      "\tselectedSheet.getRange(\"AD:AD\").setColumnHidden(true);\n",
      "}\n",
      "\n"
     ]
    }
   ],
   "source": [
    "print(script)"
   ]
  },
  {
   "cell_type": "code",
   "execution_count": null,
   "metadata": {},
   "outputs": [],
   "source": []
  }
 ],
 "metadata": {
  "kernelspec": {
   "display_name": "Python 3",
   "language": "python",
   "name": "python3"
  },
  "language_info": {
   "codemirror_mode": {
    "name": "ipython",
    "version": 3
   },
   "file_extension": ".py",
   "mimetype": "text/x-python",
   "name": "python",
   "nbconvert_exporter": "python",
   "pygments_lexer": "ipython3",
   "version": "3.10.13"
  }
 },
 "nbformat": 4,
 "nbformat_minor": 2
}
