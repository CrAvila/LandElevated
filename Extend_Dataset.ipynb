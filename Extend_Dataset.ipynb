{
  "nbformat": 4,
  "nbformat_minor": 0,
  "metadata": {
    "colab": {
      "provenance": [],
      "authorship_tag": "ABX9TyO0gnyW07S1UGAJ7EsmAyHj",
      "include_colab_link": true
    },
    "kernelspec": {
      "name": "python3",
      "display_name": "Python 3"
    },
    "language_info": {
      "name": "python"
    }
  },
  "cells": [
    {
      "cell_type": "markdown",
      "metadata": {
        "id": "view-in-github",
        "colab_type": "text"
      },
      "source": [
        "<a href=\"https://colab.research.google.com/github/CrAvila/LandElevated/blob/main/Extend_Dataset.ipynb\" target=\"_parent\"><img src=\"https://colab.research.google.com/assets/colab-badge.svg\" alt=\"Open In Colab\"/></a>"
      ]
    },
    {
      "cell_type": "code",
      "source": [
        "import csv\n",
        "\n",
        "def comparar_y_guardar(archivo_full, archivo_short, archivo_salida):\n",
        "    with open(archivo_full, 'r') as f_full, \\\n",
        "         open(archivo_short, 'r') as f_short, \\\n",
        "         open(archivo_salida, 'w', newline='') as f_salida:\n",
        "\n",
        "        lector_full = csv.DictReader(f_full)\n",
        "        lector_short = csv.DictReader(f_short)\n",
        "        escritor = csv.DictWriter(f_salida, fieldnames=lector_full.fieldnames)\n",
        "        escritor.writeheader()  # Escribir encabezado\n",
        "\n",
        "        for fila_short in lector_short:\n",
        "            for fila_full in lector_full:\n",
        "                if all(fila_short[clave] == fila_full[clave] for clave in fila_short):\n",
        "                    escritor.writerow(fila_full)\n",
        "                    break  # Pasar a la siguiente fila_short si se encuentra coincidencia\n",
        "            f_full.seek(0)  # Volver al inicio del archivo full para la siguiente comparación\n",
        "\n",
        "zone = \"SanBernardino_92335\"\n",
        "\n",
        "# Llamar a la función con los nombres de los archivos\n",
        "comparar_y_guardar(f\"{zone}_full.csv\", f\"{zone}_short.csv\", f\"{zone}.csv\")"
      ],
      "metadata": {
        "id": "_BOuzsAwpsZg"
      },
      "execution_count": 2,
      "outputs": []
    },
    {
      "cell_type": "code",
      "source": [],
      "metadata": {
        "id": "BrZsLbmphgQ_"
      },
      "execution_count": null,
      "outputs": []
    }
  ]
}